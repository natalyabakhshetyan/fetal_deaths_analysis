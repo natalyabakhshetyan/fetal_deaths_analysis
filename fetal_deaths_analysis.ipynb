{
 "cells": [
  {
   "cell_type": "markdown",
   "metadata": {},
   "source": [
    "**Exploratory Data Analysis of Fetal Deaths in USA, 2014-2017**\n",
    "\n",
    "{Describe Dataset and Project}\n",
    "\n",
    "***Preliminary Wrangling***"
   ]
  },
  {
   "cell_type": "code",
   "execution_count": 1,
   "metadata": {},
   "outputs": [],
   "source": [
    "# import all packages and set plots to be embedded inline\n",
    "import numpy as np\n",
    "import pandas as pd\n",
    "import matplotlib.pyplot as plt\n",
    "import seaborn as sb\n",
    "\n",
    "%matplotlib inline"
   ]
  },
  {
   "cell_type": "code",
   "execution_count": 3,
   "metadata": {},
   "outputs": [
    {
     "data": {
      "text/html": [
       "<div>\n",
       "<style scoped>\n",
       "    .dataframe tbody tr th:only-of-type {\n",
       "        vertical-align: middle;\n",
       "    }\n",
       "\n",
       "    .dataframe tbody tr th {\n",
       "        vertical-align: top;\n",
       "    }\n",
       "\n",
       "    .dataframe thead th {\n",
       "        text-align: right;\n",
       "    }\n",
       "</style>\n",
       "<table border=\"1\" class=\"dataframe\">\n",
       "  <thead>\n",
       "    <tr style=\"text-align: right;\">\n",
       "      <th></th>\n",
       "      <th>Notes</th>\n",
       "      <th>Age of Mother Year</th>\n",
       "      <th>Age of Mother Year Code</th>\n",
       "      <th>Age of Father Year</th>\n",
       "      <th>Age of Father Year Code</th>\n",
       "      <th>Mother's Pre-pregnancy BMI</th>\n",
       "      <th>Mother's Pre-pregnancy BMI Code</th>\n",
       "      <th>Cause of Death</th>\n",
       "      <th>Cause of Death Code</th>\n",
       "      <th>Fetal Deaths</th>\n",
       "    </tr>\n",
       "  </thead>\n",
       "  <tbody>\n",
       "    <tr>\n",
       "      <th>0</th>\n",
       "      <td>NaN</td>\n",
       "      <td>12 years and under</td>\n",
       "      <td>12</td>\n",
       "      <td>Unknown or Not Stated</td>\n",
       "      <td>99.0</td>\n",
       "      <td>Normal 18.5-24.9</td>\n",
       "      <td>2.0</td>\n",
       "      <td>Other preterm infants</td>\n",
       "      <td>P07.3</td>\n",
       "      <td>1.0</td>\n",
       "    </tr>\n",
       "    <tr>\n",
       "      <th>1</th>\n",
       "      <td>NaN</td>\n",
       "      <td>12 years and under</td>\n",
       "      <td>12</td>\n",
       "      <td>Unknown or Not Stated</td>\n",
       "      <td>99.0</td>\n",
       "      <td>Overweight 25.0-29.9</td>\n",
       "      <td>3.0</td>\n",
       "      <td>Newborn affected by other forms of placental s...</td>\n",
       "      <td>P02.1</td>\n",
       "      <td>1.0</td>\n",
       "    </tr>\n",
       "    <tr>\n",
       "      <th>2</th>\n",
       "      <td>NaN</td>\n",
       "      <td>12 years and under</td>\n",
       "      <td>12</td>\n",
       "      <td>Unknown or Not Stated</td>\n",
       "      <td>99.0</td>\n",
       "      <td>Overweight 25.0-29.9</td>\n",
       "      <td>3.0</td>\n",
       "      <td>Fetal death of unspecified cause</td>\n",
       "      <td>P95</td>\n",
       "      <td>1.0</td>\n",
       "    </tr>\n",
       "    <tr>\n",
       "      <th>3</th>\n",
       "      <td>NaN</td>\n",
       "      <td>12 years and under</td>\n",
       "      <td>12</td>\n",
       "      <td>Unknown or Not Stated</td>\n",
       "      <td>99.0</td>\n",
       "      <td>Overweight 25.0-29.9</td>\n",
       "      <td>3.0</td>\n",
       "      <td>Not Reported</td>\n",
       "      <td>NR</td>\n",
       "      <td>2.0</td>\n",
       "    </tr>\n",
       "    <tr>\n",
       "      <th>4</th>\n",
       "      <td>NaN</td>\n",
       "      <td>12 years and under</td>\n",
       "      <td>12</td>\n",
       "      <td>Unknown or Not Stated</td>\n",
       "      <td>99.0</td>\n",
       "      <td>Obesity II 35.0-39.9</td>\n",
       "      <td>5.0</td>\n",
       "      <td>Not Reported</td>\n",
       "      <td>NR</td>\n",
       "      <td>1.0</td>\n",
       "    </tr>\n",
       "  </tbody>\n",
       "</table>\n",
       "</div>"
      ],
      "text/plain": [
       "  Notes  Age of Mother Year Age of Mother Year Code     Age of Father Year  \\\n",
       "0   NaN  12 years and under                      12  Unknown or Not Stated   \n",
       "1   NaN  12 years and under                      12  Unknown or Not Stated   \n",
       "2   NaN  12 years and under                      12  Unknown or Not Stated   \n",
       "3   NaN  12 years and under                      12  Unknown or Not Stated   \n",
       "4   NaN  12 years and under                      12  Unknown or Not Stated   \n",
       "\n",
       "   Age of Father Year Code Mother's Pre-pregnancy BMI  \\\n",
       "0                     99.0           Normal 18.5-24.9   \n",
       "1                     99.0       Overweight 25.0-29.9   \n",
       "2                     99.0       Overweight 25.0-29.9   \n",
       "3                     99.0       Overweight 25.0-29.9   \n",
       "4                     99.0       Obesity II 35.0-39.9   \n",
       "\n",
       "   Mother's Pre-pregnancy BMI Code  \\\n",
       "0                              2.0   \n",
       "1                              3.0   \n",
       "2                              3.0   \n",
       "3                              3.0   \n",
       "4                              5.0   \n",
       "\n",
       "                                      Cause of Death Cause of Death Code  \\\n",
       "0                              Other preterm infants               P07.3   \n",
       "1  Newborn affected by other forms of placental s...               P02.1   \n",
       "2                   Fetal death of unspecified cause                 P95   \n",
       "3                                       Not Reported                  NR   \n",
       "4                                       Not Reported                  NR   \n",
       "\n",
       "   Fetal Deaths  \n",
       "0           1.0  \n",
       "1           1.0  \n",
       "2           1.0  \n",
       "3           2.0  \n",
       "4           1.0  "
      ]
     },
     "execution_count": 3,
     "metadata": {},
     "output_type": "execute_result"
    }
   ],
   "source": [
    "# load the dataset\n",
    "df = pd.read_csv('us_fetal_deaths_2014-2017.txt', sep = \"\t\")\n",
    "df.head()"
   ]
  },
  {
   "cell_type": "code",
   "execution_count": 6,
   "metadata": {},
   "outputs": [
    {
     "data": {
      "text/html": [
       "<div>\n",
       "<style scoped>\n",
       "    .dataframe tbody tr th:only-of-type {\n",
       "        vertical-align: middle;\n",
       "    }\n",
       "\n",
       "    .dataframe tbody tr th {\n",
       "        vertical-align: top;\n",
       "    }\n",
       "\n",
       "    .dataframe thead th {\n",
       "        text-align: right;\n",
       "    }\n",
       "</style>\n",
       "<table border=\"1\" class=\"dataframe\">\n",
       "  <thead>\n",
       "    <tr style=\"text-align: right;\">\n",
       "      <th></th>\n",
       "      <th>Age of Mother Year</th>\n",
       "      <th>Age of Father Year</th>\n",
       "      <th>Mother's Pre-pregnancy BMI</th>\n",
       "      <th>Cause of Death</th>\n",
       "      <th>Fetal Deaths</th>\n",
       "    </tr>\n",
       "  </thead>\n",
       "  <tbody>\n",
       "    <tr>\n",
       "      <th>0</th>\n",
       "      <td>12 years and under</td>\n",
       "      <td>Unknown or Not Stated</td>\n",
       "      <td>Normal 18.5-24.9</td>\n",
       "      <td>Other preterm infants</td>\n",
       "      <td>1.0</td>\n",
       "    </tr>\n",
       "    <tr>\n",
       "      <th>1</th>\n",
       "      <td>12 years and under</td>\n",
       "      <td>Unknown or Not Stated</td>\n",
       "      <td>Overweight 25.0-29.9</td>\n",
       "      <td>Newborn affected by other forms of placental s...</td>\n",
       "      <td>1.0</td>\n",
       "    </tr>\n",
       "    <tr>\n",
       "      <th>2</th>\n",
       "      <td>12 years and under</td>\n",
       "      <td>Unknown or Not Stated</td>\n",
       "      <td>Overweight 25.0-29.9</td>\n",
       "      <td>Fetal death of unspecified cause</td>\n",
       "      <td>1.0</td>\n",
       "    </tr>\n",
       "    <tr>\n",
       "      <th>3</th>\n",
       "      <td>12 years and under</td>\n",
       "      <td>Unknown or Not Stated</td>\n",
       "      <td>Overweight 25.0-29.9</td>\n",
       "      <td>Not Reported</td>\n",
       "      <td>2.0</td>\n",
       "    </tr>\n",
       "    <tr>\n",
       "      <th>4</th>\n",
       "      <td>12 years and under</td>\n",
       "      <td>Unknown or Not Stated</td>\n",
       "      <td>Obesity II 35.0-39.9</td>\n",
       "      <td>Not Reported</td>\n",
       "      <td>1.0</td>\n",
       "    </tr>\n",
       "  </tbody>\n",
       "</table>\n",
       "</div>"
      ],
      "text/plain": [
       "   Age of Mother Year     Age of Father Year Mother's Pre-pregnancy BMI  \\\n",
       "0  12 years and under  Unknown or Not Stated           Normal 18.5-24.9   \n",
       "1  12 years and under  Unknown or Not Stated       Overweight 25.0-29.9   \n",
       "2  12 years and under  Unknown or Not Stated       Overweight 25.0-29.9   \n",
       "3  12 years and under  Unknown or Not Stated       Overweight 25.0-29.9   \n",
       "4  12 years and under  Unknown or Not Stated       Obesity II 35.0-39.9   \n",
       "\n",
       "                                      Cause of Death  Fetal Deaths  \n",
       "0                              Other preterm infants           1.0  \n",
       "1  Newborn affected by other forms of placental s...           1.0  \n",
       "2                   Fetal death of unspecified cause           1.0  \n",
       "3                                       Not Reported           2.0  \n",
       "4                                       Not Reported           1.0  "
      ]
     },
     "execution_count": 6,
     "metadata": {},
     "output_type": "execute_result"
    }
   ],
   "source": [
    "# drop unnecessary columns\n",
    "df = df.drop(['Notes', 'Age of Mother Year Code', 'Age of Father Year Code', \\\n",
    "         \"Mother's Pre-pregnancy BMI Code\", \"Cause of Death Code\"], axis = 1)\n",
    "df.head()"
   ]
  },
  {
   "cell_type": "code",
   "execution_count": 8,
   "metadata": {},
   "outputs": [
    {
     "data": {
      "text/html": [
       "<div>\n",
       "<style scoped>\n",
       "    .dataframe tbody tr th:only-of-type {\n",
       "        vertical-align: middle;\n",
       "    }\n",
       "\n",
       "    .dataframe tbody tr th {\n",
       "        vertical-align: top;\n",
       "    }\n",
       "\n",
       "    .dataframe thead th {\n",
       "        text-align: right;\n",
       "    }\n",
       "</style>\n",
       "<table border=\"1\" class=\"dataframe\">\n",
       "  <thead>\n",
       "    <tr style=\"text-align: right;\">\n",
       "      <th></th>\n",
       "      <th>mother_age</th>\n",
       "      <th>father_age</th>\n",
       "      <th>mother_BMI</th>\n",
       "      <th>death_cause</th>\n",
       "      <th>death_count</th>\n",
       "    </tr>\n",
       "  </thead>\n",
       "  <tbody>\n",
       "    <tr>\n",
       "      <th>0</th>\n",
       "      <td>12 years and under</td>\n",
       "      <td>Unknown or Not Stated</td>\n",
       "      <td>Normal 18.5-24.9</td>\n",
       "      <td>Other preterm infants</td>\n",
       "      <td>1.0</td>\n",
       "    </tr>\n",
       "    <tr>\n",
       "      <th>1</th>\n",
       "      <td>12 years and under</td>\n",
       "      <td>Unknown or Not Stated</td>\n",
       "      <td>Overweight 25.0-29.9</td>\n",
       "      <td>Newborn affected by other forms of placental s...</td>\n",
       "      <td>1.0</td>\n",
       "    </tr>\n",
       "    <tr>\n",
       "      <th>2</th>\n",
       "      <td>12 years and under</td>\n",
       "      <td>Unknown or Not Stated</td>\n",
       "      <td>Overweight 25.0-29.9</td>\n",
       "      <td>Fetal death of unspecified cause</td>\n",
       "      <td>1.0</td>\n",
       "    </tr>\n",
       "    <tr>\n",
       "      <th>3</th>\n",
       "      <td>12 years and under</td>\n",
       "      <td>Unknown or Not Stated</td>\n",
       "      <td>Overweight 25.0-29.9</td>\n",
       "      <td>Not Reported</td>\n",
       "      <td>2.0</td>\n",
       "    </tr>\n",
       "    <tr>\n",
       "      <th>4</th>\n",
       "      <td>12 years and under</td>\n",
       "      <td>Unknown or Not Stated</td>\n",
       "      <td>Obesity II 35.0-39.9</td>\n",
       "      <td>Not Reported</td>\n",
       "      <td>1.0</td>\n",
       "    </tr>\n",
       "  </tbody>\n",
       "</table>\n",
       "</div>"
      ],
      "text/plain": [
       "           mother_age             father_age            mother_BMI  \\\n",
       "0  12 years and under  Unknown or Not Stated      Normal 18.5-24.9   \n",
       "1  12 years and under  Unknown or Not Stated  Overweight 25.0-29.9   \n",
       "2  12 years and under  Unknown or Not Stated  Overweight 25.0-29.9   \n",
       "3  12 years and under  Unknown or Not Stated  Overweight 25.0-29.9   \n",
       "4  12 years and under  Unknown or Not Stated  Obesity II 35.0-39.9   \n",
       "\n",
       "                                         death_cause  death_count  \n",
       "0                              Other preterm infants          1.0  \n",
       "1  Newborn affected by other forms of placental s...          1.0  \n",
       "2                   Fetal death of unspecified cause          1.0  \n",
       "3                                       Not Reported          2.0  \n",
       "4                                       Not Reported          1.0  "
      ]
     },
     "execution_count": 8,
     "metadata": {},
     "output_type": "execute_result"
    }
   ],
   "source": [
    "# rename the columns\n",
    "df.columns = ['mother_age', 'father_age', 'mother_BMI', 'death_cause', 'death_count']\n",
    "df.head()"
   ]
  },
  {
   "cell_type": "code",
   "execution_count": 9,
   "metadata": {},
   "outputs": [
    {
     "data": {
      "text/plain": [
       "array(['12 years and under', '13 years', '14 years', '15 years',\n",
       "       '16 years', '17 years', '18 years', '19 years', '20 years',\n",
       "       '21 years', '22 years', '23 years', '24 years', '25 years',\n",
       "       '26 years', '27 years', '28 years', '29 years', '30 years',\n",
       "       '31 years', '32 years', '33 years', '34 years', '35 years',\n",
       "       '36 years', '37 years', '38 years', '39 years', '40 years',\n",
       "       '41 years', '42 years', '43 years', '44 years', '45 years',\n",
       "       '46 years', '47 years', '48 years', '49 years',\n",
       "       '50 years and over', nan], dtype=object)"
      ]
     },
     "execution_count": 9,
     "metadata": {},
     "output_type": "execute_result"
    }
   ],
   "source": [
    "# explore unique mother_age values\n",
    "\n",
    "df.mother_age.unique()"
   ]
  },
  {
   "cell_type": "code",
   "execution_count": 10,
   "metadata": {},
   "outputs": [
    {
     "data": {
      "text/plain": [
       "array(['Unknown or Not Stated', '13 years', '14 years', '15 years',\n",
       "       '16 years', '17 years', '18 years', '20 years', 'Not Reported',\n",
       "       '19 years', '21 years', '23 years', '24 years', '26 years',\n",
       "       '28 years', '30 years', '35 years', '22 years', '25 years',\n",
       "       '27 years', '29 years', '34 years', '36 years', '37 years',\n",
       "       '31 years', '32 years', '33 years', '38 years', '39 years',\n",
       "       '40 years', '44 years', '49 years', '50 years', '41 years',\n",
       "       '42 years', '58 years', '59 years', '43 years', '45 years',\n",
       "       '47 years', '64 years', '69 years', '9 years', '46 years',\n",
       "       '48 years', '53 years', '52 years', '55 years', '57 years',\n",
       "       '51 years', '61 years', '75 years', '54 years', '67 years',\n",
       "       '60 years', '63 years', '56 years', '62 years', '73 years',\n",
       "       '65 years', '70 years', '66 years', '72 years', '71 years',\n",
       "       '78 years', '77 years', '68 years', nan], dtype=object)"
      ]
     },
     "execution_count": 10,
     "metadata": {},
     "output_type": "execute_result"
    }
   ],
   "source": [
    "# explore unique father_age values\n",
    "\n",
    "df.father_age.unique()"
   ]
  },
  {
   "cell_type": "code",
   "execution_count": 11,
   "metadata": {},
   "outputs": [
    {
     "data": {
      "text/plain": [
       "array(['Normal 18.5-24.9', 'Overweight 25.0-29.9', 'Obesity II 35.0-39.9',\n",
       "       'Underweight <18.5', 'Unknown or Not Stated',\n",
       "       'Obesity I 30.0-34.9', 'Not Reported',\n",
       "       'Extreme Obesity III > 39.9', nan], dtype=object)"
      ]
     },
     "execution_count": 11,
     "metadata": {},
     "output_type": "execute_result"
    }
   ],
   "source": [
    "# explore unique mother_BMI values\n",
    "\n",
    "df.mother_BMI.unique()"
   ]
  },
  {
   "cell_type": "code",
   "execution_count": 13,
   "metadata": {},
   "outputs": [
    {
     "data": {
      "text/plain": [
       "433"
      ]
     },
     "execution_count": 13,
     "metadata": {},
     "output_type": "execute_result"
    }
   ],
   "source": [
    "# number of unique death_cause values\n",
    "\n",
    "df.death_cause.nunique()"
   ]
  },
  {
   "cell_type": "code",
   "execution_count": null,
   "metadata": {},
   "outputs": [],
   "source": []
  }
 ],
 "metadata": {
  "kernelspec": {
   "display_name": "Python 3",
   "language": "python",
   "name": "python3"
  },
  "language_info": {
   "codemirror_mode": {
    "name": "ipython",
    "version": 3
   },
   "file_extension": ".py",
   "mimetype": "text/x-python",
   "name": "python",
   "nbconvert_exporter": "python",
   "pygments_lexer": "ipython3",
   "version": "3.7.3"
  }
 },
 "nbformat": 4,
 "nbformat_minor": 2
}
